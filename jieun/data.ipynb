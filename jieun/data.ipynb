{
 "cells": [
  {
   "cell_type": "code",
   "execution_count": 56,
   "metadata": {},
   "outputs": [],
   "source": [
    "import warnings\n",
    "warnings.filterwarnings('ignore')\n",
    "\n",
    "import pandas as pd\n",
    "import numpy as np\n",
    "import matplotlib.pyplot as plt\n",
    "# import seaborn as sns\n",
    "\n",
    "pd.set_option('display.max_columns', None)\n",
    "pd.set_option('display.max_rows', None)"
   ]
  },
  {
   "cell_type": "markdown",
   "metadata": {},
   "source": [
    "### **원시데이터**"
   ]
  },
  {
   "cell_type": "code",
   "execution_count": null,
   "metadata": {},
   "outputs": [],
   "source": [
    "train = pd.read_csv('/mnt/aix7206/data/train.csv')"
   ]
  },
  {
   "cell_type": "code",
   "execution_count": null,
   "metadata": {},
   "outputs": [],
   "source": [
    "train.info()"
   ]
  },
  {
   "cell_type": "code",
   "execution_count": null,
   "metadata": {},
   "outputs": [],
   "source": [
    "train.head(10)"
   ]
  },
  {
   "cell_type": "code",
   "execution_count": null,
   "metadata": {},
   "outputs": [],
   "source": [
    "train.describe()"
   ]
  },
  {
   "cell_type": "code",
   "execution_count": null,
   "metadata": {},
   "outputs": [],
   "source": [
    "train.groupby(['image_crops', 'image_fname'])['image_fname'].count()"
   ]
  },
  {
   "cell_type": "code",
   "execution_count": null,
   "metadata": {},
   "outputs": [],
   "source": []
  },
  {
   "cell_type": "markdown",
   "metadata": {},
   "source": [
    "### **생육지표가 라벨링되어 있는 데이터만 filtering**"
   ]
  },
  {
   "cell_type": "code",
   "execution_count": 7,
   "metadata": {},
   "outputs": [],
   "source": [
    "train_label = train[train['growth_leaf_width'].notnull()]"
   ]
  },
  {
   "cell_type": "code",
   "execution_count": 8,
   "metadata": {},
   "outputs": [],
   "source": [
    "train_label = pd.read_csv('/mnt/aix7206/data/train_label.csv')"
   ]
  },
  {
   "cell_type": "code",
   "execution_count": null,
   "metadata": {},
   "outputs": [],
   "source": [
    "train_label.info()"
   ]
  },
  {
   "cell_type": "code",
   "execution_count": null,
   "metadata": {},
   "outputs": [],
   "source": [
    "train_label.head()"
   ]
  },
  {
   "cell_type": "code",
   "execution_count": null,
   "metadata": {},
   "outputs": [],
   "source": [
    "train_label.describe()"
   ]
  },
  {
   "cell_type": "code",
   "execution_count": null,
   "metadata": {},
   "outputs": [],
   "source": [
    "train_label['image_crops'].value_counts()"
   ]
  },
  {
   "cell_type": "code",
   "execution_count": null,
   "metadata": {},
   "outputs": [],
   "source": [
    "train_label.groupby('image_crops')['image_growth_stage'].value_counts()"
   ]
  },
  {
   "cell_type": "code",
   "execution_count": null,
   "metadata": {},
   "outputs": [],
   "source": [
    "train_label['image_growth_stage'].value_counts()"
   ]
  },
  {
   "cell_type": "code",
   "execution_count": null,
   "metadata": {},
   "outputs": [],
   "source": [
    "train_label['cat_name'].value_counts()"
   ]
  },
  {
   "cell_type": "code",
   "execution_count": null,
   "metadata": {},
   "outputs": [],
   "source": [
    "train_label[train_label['image_growth_stage']=='정식기'][['growth_stem_length', 'growth_leaf_cnt', 'growth_leaf_width', 'growth_leaf_length', 'growth_leaf_index']].describe()"
   ]
  },
  {
   "cell_type": "code",
   "execution_count": null,
   "metadata": {},
   "outputs": [],
   "source": [
    "train_label[train_label['image_growth_stage']=='생육기'][['growth_stem_length', 'growth_leaf_cnt', 'growth_leaf_width', 'growth_leaf_length', 'growth_leaf_index']].describe()"
   ]
  },
  {
   "cell_type": "code",
   "execution_count": null,
   "metadata": {},
   "outputs": [],
   "source": [
    "train_label[train_label['image_growth_stage']=='수확기'][['growth_stem_length', 'growth_leaf_cnt', 'growth_leaf_width', 'growth_leaf_length', 'growth_leaf_index']].describe()"
   ]
  },
  {
   "cell_type": "code",
   "execution_count": null,
   "metadata": {},
   "outputs": [],
   "source": []
  },
  {
   "cell_type": "markdown",
   "metadata": {},
   "source": [
    "### **이미지 및 bounding box**"
   ]
  },
  {
   "cell_type": "code",
   "execution_count": 37,
   "metadata": {},
   "outputs": [],
   "source": [
    "import selectivesearch\n",
    "import cv2\n",
    "import matplotlib.pyplot as plt\n",
    "import pandas as pd\n",
    "import os\n",
    "import ast\n",
    "%matplotlib inline"
   ]
  },
  {
   "cell_type": "code",
   "execution_count": 17,
   "metadata": {},
   "outputs": [],
   "source": [
    "def find_file(root_folder, target_file):\n",
    "    for dirpath, dirnames, filenames in os.walk(root_folder):\n",
    "        if target_file in filenames:\n",
    "            return os.path.join(dirpath, target_file)\n",
    "    return \"파일을 찾을 수 없습니다.\""
   ]
  },
  {
   "cell_type": "code",
   "execution_count": 18,
   "metadata": {},
   "outputs": [],
   "source": [
    "# filter_leaf = train_label[train_label['cat_name']=='잎']\n",
    "# len(filter_leaf)"
   ]
  },
  {
   "cell_type": "code",
   "execution_count": 19,
   "metadata": {},
   "outputs": [],
   "source": [
    "# filter_leaf.to_csv('/mnt/aix7206/data/filter_leaf.csv', index=False)"
   ]
  },
  {
   "cell_type": "code",
   "execution_count": 20,
   "metadata": {},
   "outputs": [],
   "source": [
    "filter_leaf = pd.read_csv('/mnt/aix7206/data/filter_leaf.csv')"
   ]
  },
  {
   "cell_type": "code",
   "execution_count": 21,
   "metadata": {},
   "outputs": [],
   "source": [
    "# 사용 예시\n",
    "root_directory = '/mnt/aix7206/data/' + filter_leaf['image_file_path'][1]  # 탐색을 시작할 루트 폴더 경로\n",
    "file_name = filter_leaf['image_fname'][1]  # 찾고자 하는 파일명\n",
    "\n",
    "file_path = find_file(root_directory, file_name)"
   ]
  },
  {
   "cell_type": "code",
   "execution_count": null,
   "metadata": {},
   "outputs": [],
   "source": [
    "img = cv2.imread(file_path)\n",
    "img_rgb = cv2.cvtColor(img, cv2.COLOR_BGR2RGB)\n",
    "print('img shape:', img.shape)\n",
    "\n",
    "plt.figure(figsize=(8, 8))\n",
    "plt.imshow(img_rgb)\n",
    "plt.show()"
   ]
  },
  {
   "cell_type": "code",
   "execution_count": null,
   "metadata": {},
   "outputs": [],
   "source": [
    "# 바운딩 박스 좌표 변환\n",
    "gt_box_list = ast.literal_eval(filter_leaf['ann_bbox'][1])\n",
    "gt_box = list(map(int, gt_box_list))\n",
    "\n",
    "# 'growth_leaf_length'와 'growth_leaf_width'의 1번째 행 데이터 추출\n",
    "growth_leaf_length = filter_leaf['growth_leaf_length'][1]\n",
    "growth_leaf_width = filter_leaf['growth_leaf_width'][1]\n",
    "\n",
    "# 바운딩 박스 색상\n",
    "red = (255, 0, 0)\n",
    "\n",
    "# 이미지에 바운딩 박스 그리기\n",
    "img_rgb = cv2.rectangle(img_rgb, (gt_box[0], gt_box[1]), (gt_box[0]+gt_box[2], gt_box[1]+gt_box[3]), color=red, thickness=2)\n",
    "\n",
    "# 표시할 텍스트 (엽폭과 엽장의 정보를 문자열로 변환)\n",
    "text = f'Length: {growth_leaf_length}, Width: {growth_leaf_width}'\n",
    "\n",
    "# 텍스트 위치 지정 (바운딩 박스의 왼쪽 위 좌표를 기준으로)\n",
    "text_position = (gt_box[0], gt_box[1] - 10)  # 바운딩 박스 위쪽에 텍스트 표시\n",
    "\n",
    "# 이미지에 텍스트 그리기\n",
    "cv2.putText(img_rgb, text, text_position, cv2.FONT_HERSHEY_SIMPLEX, 0.6, (0, 255, 0), 2)\n",
    "\n",
    "# 이미지 출력\n",
    "plt.figure(figsize=(8, 8))\n",
    "plt.imshow(img_rgb)\n",
    "plt.axis('off')  # 축을 숨김\n",
    "plt.show()"
   ]
  },
  {
   "cell_type": "code",
   "execution_count": null,
   "metadata": {},
   "outputs": [],
   "source": [
    "filter_whole = train_label[train_label['cat_name']=='주']\n",
    "len(filter_whole)"
   ]
  },
  {
   "cell_type": "code",
   "execution_count": 32,
   "metadata": {},
   "outputs": [],
   "source": [
    "filter_whole.to_csv('/mnt/aix7206/data/filter_whole.csv', index=False)"
   ]
  },
  {
   "cell_type": "code",
   "execution_count": 39,
   "metadata": {},
   "outputs": [],
   "source": [
    "filter_whole = pd.read_csv('/mnt/aix7206/data/filter_whole.csv')"
   ]
  },
  {
   "cell_type": "code",
   "execution_count": 41,
   "metadata": {},
   "outputs": [],
   "source": [
    "root_directory = '/mnt/aix7206/data/' + filter_whole['image_file_path'][1]  # 탐색을 시작할 루트 폴더 경로\n",
    "file_name = filter_whole['image_fname'][1]  # 찾고자 하는 파일명\n",
    "\n",
    "file_path = find_file(root_directory, file_name)"
   ]
  },
  {
   "cell_type": "code",
   "execution_count": null,
   "metadata": {},
   "outputs": [],
   "source": [
    "img = cv2.imread(file_path)\n",
    "img_rgb = cv2.cvtColor(img, cv2.COLOR_BGR2RGB)\n",
    "print('img shape:', img.shape)\n",
    "\n",
    "plt.figure(figsize=(8, 8))\n",
    "plt.imshow(img_rgb)\n",
    "plt.show()"
   ]
  },
  {
   "cell_type": "code",
   "execution_count": null,
   "metadata": {},
   "outputs": [],
   "source": [
    "# 바운딩 박스 좌표 변환\n",
    "gt_box_list = ast.literal_eval(filter_whole['ann_bbox'][1])\n",
    "gt_box = list(map(int, gt_box_list))\n",
    "\n",
    "# 'growth_leaf_length'와 'growth_leaf_width'의 1번째 행 데이터 추출\n",
    "growth_leaf_length = filter_whole['growth_leaf_length'][1]\n",
    "growth_leaf_width = filter_whole['growth_leaf_width'][1]\n",
    "\n",
    "# 바운딩 박스 색상\n",
    "red = (255, 0, 0)\n",
    "\n",
    "# 이미지에 바운딩 박스 그리기\n",
    "img_rgb = cv2.rectangle(img_rgb, (gt_box[0], gt_box[1]), (gt_box[0]+gt_box[2], gt_box[1]+gt_box[3]), color=red, thickness=2)\n",
    "\n",
    "# 표시할 텍스트 (엽폭과 엽장의 정보를 문자열로 변환)\n",
    "text = f'Length: {growth_leaf_length}, Width: {growth_leaf_width}'\n",
    "\n",
    "# 텍스트 위치 지정 (바운딩 박스의 왼쪽 위 좌표를 기준으로)\n",
    "text_position = (gt_box[0], gt_box[1] - 10)  # 바운딩 박스 위쪽에 텍스트 표시\n",
    "\n",
    "# 이미지에 텍스트 그리기\n",
    "cv2.putText(img_rgb, text, text_position, cv2.FONT_HERSHEY_SIMPLEX, 0.6, (0, 255, 0), 2)\n",
    "\n",
    "# 이미지 출력\n",
    "plt.figure(figsize=(8, 8))\n",
    "plt.imshow(img_rgb)\n",
    "plt.axis('off')  # 축을 숨김\n",
    "plt.show()"
   ]
  },
  {
   "cell_type": "code",
   "execution_count": null,
   "metadata": {},
   "outputs": [],
   "source": [
    "train = pd.read_csv('/mnt/aix7206/data/train.csv')"
   ]
  },
  {
   "cell_type": "code",
   "execution_count": null,
   "metadata": {},
   "outputs": [],
   "source": [
    "len(train)"
   ]
  },
  {
   "cell_type": "code",
   "execution_count": null,
   "metadata": {},
   "outputs": [],
   "source": [
    "len(train[train['cat_name']=='주'])"
   ]
  },
  {
   "cell_type": "code",
   "execution_count": null,
   "metadata": {},
   "outputs": [],
   "source": [
    "len(train[train['cat_name']=='잎'])"
   ]
  },
  {
   "cell_type": "code",
   "execution_count": null,
   "metadata": {},
   "outputs": [],
   "source": [
    "len(train[train['cat_name'].isnull()])"
   ]
  },
  {
   "cell_type": "markdown",
   "metadata": {},
   "source": [
    "### **재배환경데이터 매칭(train만)**"
   ]
  },
  {
   "cell_type": "markdown",
   "metadata": {},
   "source": [
    "ffill"
   ]
  },
  {
   "cell_type": "code",
   "execution_count": 7,
   "metadata": {},
   "outputs": [],
   "source": [
    "train = pd.read_csv('/mnt/aix7206/data/train.csv')\n",
    "val = pd.read_csv('/mnt/aix7206/data/val.csv')\n",
    "env_train = pd.read_csv('/mnt/aix7206/data/train_aihub.csv')\n",
    "env_val = pd.read_csv('/mnt/aix7206/data/val_aihub.csv')"
   ]
  },
  {
   "cell_type": "code",
   "execution_count": 29,
   "metadata": {},
   "outputs": [],
   "source": [
    "train_ffill = train.fillna(method='ffill') \n",
    "train_ffill.to_csv('/mnt/aix7206/data/train_ffill.csv', index=False)"
   ]
  },
  {
   "cell_type": "code",
   "execution_count": 64,
   "metadata": {},
   "outputs": [],
   "source": [
    "val_ffill = val.fillna(method='ffill')\n",
    "val_ffill.to_csv('/mnt/aix7206/data/val_ffill.csv', index=False)"
   ]
  },
  {
   "cell_type": "code",
   "execution_count": 30,
   "metadata": {},
   "outputs": [],
   "source": [
    "env_train_ffill = env_train.fillna(method='ffill') \n",
    "env_train_ffill.to_csv('/mnt/aix7206/data/train_aihub_ffill.csv', index=False)"
   ]
  },
  {
   "cell_type": "code",
   "execution_count": 31,
   "metadata": {},
   "outputs": [],
   "source": [
    "env_val_ffill = env_val.fillna(method='ffill') \n",
    "env_val_ffill.to_csv('/mnt/aix7206/data/val_aihub_ffill.csv', index=False)"
   ]
  },
  {
   "cell_type": "markdown",
   "metadata": {},
   "source": [
    "matching"
   ]
  },
  {
   "cell_type": "code",
   "execution_count": null,
   "metadata": {},
   "outputs": [],
   "source": [
    "train_ffill = pd.read_csv('/mnt/aix7206/data/dump/train_ffill.csv')\n",
    "env_train_ffill = pd.read_csv('/mnt/aix7206/data/dump/train_aihub_ffill.csv')"
   ]
  },
  {
   "cell_type": "code",
   "execution_count": null,
   "metadata": {},
   "outputs": [],
   "source": [
    "print(len(train_ffill), len(env_train_ffill))"
   ]
  },
  {
   "cell_type": "code",
   "execution_count": null,
   "metadata": {},
   "outputs": [],
   "source": [
    "train_ffill.head()"
   ]
  },
  {
   "cell_type": "code",
   "execution_count": null,
   "metadata": {},
   "outputs": [],
   "source": [
    "env_train_ffill.head()"
   ]
  },
  {
   "cell_type": "code",
   "execution_count": null,
   "metadata": {},
   "outputs": [],
   "source": [
    "# 'env'로 시작하는 열 필터링\n",
    "env_columns = [col for col in env_train_ffill.columns if col.startswith('env')]\n",
    "\n",
    "# 'image_date_captured'와 'ann_bbox' 기준으로 두 데이터프레임을 병합\n",
    "merged_df_train = pd.merge(\n",
    "    train_ffill,\n",
    "    env_train_ffill[['image_date_captured', 'ann_bbox', 'ann_area', 'ann_segmentation', 'ann_image_id', 'image_create_date', 'ann_id'] + env_columns], \n",
    "    on=['image_date_captured', 'ann_bbox', 'ann_area', 'ann_segmentation', 'ann_image_id', 'image_create_date', 'ann_id'], \n",
    "    how='left'\n",
    ")\n",
    "\n",
    "len(merged_df_train)"
   ]
  },
  {
   "cell_type": "code",
   "execution_count": null,
   "metadata": {},
   "outputs": [],
   "source": [
    "merged_df_train.info()"
   ]
  },
  {
   "cell_type": "code",
   "execution_count": 29,
   "metadata": {},
   "outputs": [],
   "source": [
    "merged_df_train.to_csv('train_env.csv', index=False)"
   ]
  },
  {
   "cell_type": "markdown",
   "metadata": {},
   "source": [
    "### **bbox 수정**"
   ]
  },
  {
   "cell_type": "code",
   "execution_count": null,
   "metadata": {},
   "outputs": [],
   "source": [
    "train_env = pd.read_csv('/mnt/aix7206/data/dump/train_env.csv')"
   ]
  },
  {
   "cell_type": "code",
   "execution_count": null,
   "metadata": {},
   "outputs": [],
   "source": [
    "train_env.info()"
   ]
  },
  {
   "cell_type": "code",
   "execution_count": null,
   "metadata": {},
   "outputs": [],
   "source": [
    "train_env.head()"
   ]
  },
  {
   "cell_type": "code",
   "execution_count": 8,
   "metadata": {},
   "outputs": [],
   "source": [
    "def modify_bbox(bbox):\n",
    "    # 소수점 제거\n",
    "    bbox = ast.literal_eval(bbox)\n",
    "    bbox = [int(value) for value in bbox]\n",
    "    # bbox 수정\n",
    "    bbox[2] = bbox[0] + bbox[2]\n",
    "    bbox[3] = bbox[1] + bbox[3]\n",
    "    \n",
    "    return bbox\n",
    "\n",
    "train_env['ann_bbox_new'] = train_env['ann_bbox'].apply(modify_bbox)\n"
   ]
  },
  {
   "cell_type": "code",
   "execution_count": null,
   "metadata": {},
   "outputs": [],
   "source": [
    "train_env.head()"
   ]
  },
  {
   "cell_type": "code",
   "execution_count": 10,
   "metadata": {},
   "outputs": [],
   "source": [
    "train_env.to_csv('train_final.csv', index=False)"
   ]
  },
  {
   "cell_type": "markdown",
   "metadata": {},
   "source": [
    "### \n",
    "---"
   ]
  },
  {
   "cell_type": "markdown",
   "metadata": {},
   "source": [
    "### ***2024.09.26 data updates***"
   ]
  },
  {
   "cell_type": "code",
   "execution_count": 3,
   "metadata": {},
   "outputs": [],
   "source": [
    "import os\n",
    "\n",
    "train_label = '/mnt/aix7206/data/100.지능형 수직농장 통합 데이터(엽채류)/01.데이터/1.Training/라벨링데이터'\n",
    "train_raw = '/mnt/aix7206/data/100.지능형 수직농장 통합 데이터(엽채류)/01.데이터/1.Training/원천데이터'\n",
    "val_label = '/mnt/aix7206/data/100.지능형 수직농장 통합 데이터(엽채류)/01.데이터/2.Validation/라벨링데이터'\n",
    "val_raw = '/mnt/aix7206/data/100.지능형 수직농장 통합 데이터(엽채류)/01.데이터/2.Validation/원천데이터'\n",
    "\n",
    "curr_train_label = '/mnt/aix7206/data/final/100.지능형 수직농장 통합 데이터(엽채류)/01.데이터/1.Training/라벨링데이터'\n",
    "curr_train_raw = '/mnt/aix7206/data/final/100.지능형 수직농장 통합 데이터(엽채류)/01.데이터/1.Training/원천데이터'\n",
    "curr_val_label = '/mnt/aix7206/data/final/100.지능형 수직농장 통합 데이터(엽채류)/01.데이터/2.Validation/라벨링데이터'\n",
    "curr_val_raw = '/mnt/aix7206/data/final/100.지능형 수직농장 통합 데이터(엽채류)/01.데이터/2.Validation/원천데이터'\n",
    "\n",
    "def file_cnt(directory):\n",
    "    file_count = 0\n",
    "    for root, dirs, files in os.walk(directory):\n",
    "        file_count += len(files)\n",
    "    return file_count\n",
    "\n",
    "def file_cnt_nodir(directory):\n",
    "    file_count = len([f for f in os.listdir(directory) if os.path.isfile(os.path.join(directory, f))])\n",
    "    return file_count\n"
   ]
  },
  {
   "cell_type": "code",
   "execution_count": null,
   "metadata": {},
   "outputs": [],
   "source": [
    "print(f\"이전 train_label 개수:{file_cnt(train_label)}ea,\\\n",
    "      \\n이전 train_raw 개수:{file_cnt(train_raw)}ea,\\\n",
    "      \\n이전 val_label 개수: {file_cnt(val_label)}ea, \\\n",
    "      \\n이전 val_raw 개수: {file_cnt(val_raw)}ea\")\n",
    "\n",
    "print(f\"new train_label 개수:{file_cnt_nodir(curr_train_label)}ea,\\\n",
    "    \\nnew train_raw 개수:{file_cnt_nodir(curr_train_raw)}ea,\\\n",
    "    \\nnew val_label 개수:{file_cnt_nodir(curr_val_label)}ea, \\\n",
    "    \\nnew val_raw 개수: {file_cnt_nodir(curr_val_raw)}ea\")"
   ]
  },
  {
   "cell_type": "markdown",
   "metadata": {},
   "source": [
    "### ***2024.09.30 > 10개의 폴더에 랜덤하게 배분 후 json to csv***"
   ]
  },
  {
   "cell_type": "code",
   "execution_count": null,
   "metadata": {},
   "outputs": [],
   "source": [
    "import os\n",
    "import random\n",
    "import shutil\n",
    "\n",
    "def create_folders(base_dir, num_folders=10):\n",
    "    # 10개의 폴더 생성\n",
    "    folder_paths = []\n",
    "    for i in range(1, num_folders + 1):\n",
    "        folder_path = os.path.join(base_dir, f'folder_{i}')\n",
    "        os.makedirs(folder_path, exist_ok=True)  # 이미 존재하는 폴더가 있을 경우 무시\n",
    "        folder_paths.append(folder_path)\n",
    "    return folder_paths\n",
    "\n",
    "def distribute_files(base_dir, num_folders=10):\n",
    "    # 파일을 분배할 10개의 폴더 생성\n",
    "    folders = create_folders(base_dir, num_folders)\n",
    "    \n",
    "    # 하위 폴더의 모든 파일 탐색\n",
    "    all_files = []\n",
    "    for root, _, files in os.walk(base_dir):\n",
    "        if root not in folders:  # 생성한 폴더 안의 파일들은 제외\n",
    "            for file in files:\n",
    "                file_path = os.path.join(root, file)\n",
    "                all_files.append(file_path)\n",
    "    \n",
    "    # 파일을 무작위로 섞기\n",
    "    random.shuffle(all_files)\n",
    "\n",
    "    # 파일을 10개의 폴더에 무작위로 분배\n",
    "    for i, file_path in enumerate(all_files):\n",
    "        target_folder = folders[i % num_folders]  # 순차적으로 폴더 선택\n",
    "        shutil.move(file_path, os.path.join(target_folder, os.path.basename(file_path)))\n",
    "        print(f\"Moved {file_path} to {target_folder}\")\n",
    "\n",
    "# 탐색할 상위 디렉토리 경로 설정\n",
    "base_directory = '/mnt/aix7206/data/final/라벨링데이터'\n",
    "\n",
    "distribute_files(base_directory)\n"
   ]
  },
  {
   "cell_type": "code",
   "execution_count": 17,
   "metadata": {},
   "outputs": [],
   "source": [
    "def count_files_in_subfolders(parent_folder):\n",
    "    total = 0\n",
    "    # 하위 폴더 탐색\n",
    "    for root, dirs, files in os.walk(parent_folder):\n",
    "        if root != parent_folder:  # 상위 폴더 제외\n",
    "            folder_name = os.path.basename(root)\n",
    "            print(f\"Folder: {folder_name} - Number of files: {len(files)}\")\n",
    "            total += len(files)\n",
    "    print(f\"Total number of files: {total}\")"
   ]
  },
  {
   "cell_type": "code",
   "execution_count": null,
   "metadata": {},
   "outputs": [],
   "source": [
    "parent_folder = \"/mnt/aix7206/data/final/라벨링데이터\"\n",
    "count_files_in_subfolders(parent_folder)"
   ]
  },
  {
   "cell_type": "code",
   "execution_count": 3,
   "metadata": {},
   "outputs": [],
   "source": [
    "import os\n",
    "import json\n",
    "import pandas as pd\n",
    "import time\n",
    "from tqdm import tqdm\n",
    "\n",
    "def combine_json_files_recursive(directory, output_csv_file):\n",
    "    start_time = time.time()  # 시작 시간 기록\n",
    "    combined_df = pd.DataFrame()\n",
    "\n",
    "    # 모든 JSON 파일 수 계산\n",
    "    total_files = sum([len(files) for _, _, files in os.walk(directory) if any(file.endswith('.json') for file in files)])\n",
    "\n",
    "    # tqdm을 사용하여 진행률 표시\n",
    "    with tqdm(total=total_files, desc=\"Processing JSON files\", unit=\"file\") as pbar:\n",
    "        for root, _, files in os.walk(directory):\n",
    "            for file in files:\n",
    "                if file.endswith('.json'):\n",
    "                    file_path = os.path.join(root, file)\n",
    "                    with open(file_path, 'r', encoding='utf-8') as f:\n",
    "                        data = json.load(f)\n",
    "\n",
    "                        # 필요한 데이터 추출\n",
    "                        image_info = data.get('images', {})\n",
    "                        environments = data.get('environments', {})\n",
    "                        growth_index = data.get('growth_index', {})\n",
    "                        etc_infor = data.get('etc_infor', {})\n",
    "                        annotations = data.get('annotations', {})\n",
    "                        licenses = data.get('licenses', {})\n",
    "                        categories = data.get('categories', {})\n",
    "                        \n",
    "                        # 데이터 프레임 생성 (비어 있는 값도 그대로 null로 저장)\n",
    "                        image_df = pd.json_normalize(image_info).add_prefix('image_') if image_info else pd.DataFrame([None])\n",
    "                        env_df = pd.json_normalize(environments).add_prefix('env_') if environments else pd.DataFrame([None])\n",
    "                        growth_df = pd.json_normalize(growth_index).add_prefix('growth_') if growth_index else pd.DataFrame([None])\n",
    "                        etc_df = pd.json_normalize(etc_infor).add_prefix('etc_') if etc_infor else pd.DataFrame([None])\n",
    "                        ann_df = pd.json_normalize(annotations).add_prefix('ann_') if annotations else pd.DataFrame([None])\n",
    "                        lic_df = pd.json_normalize(licenses).add_prefix('lic_') if licenses else pd.DataFrame([None])\n",
    "                        cat_df = pd.json_normalize(categories).add_prefix('cat_') if categories else pd.DataFrame([None])\n",
    "\n",
    "                        # 데이터 프레임 병합\n",
    "                        merged_df = pd.concat([image_df, env_df, growth_df, etc_df, ann_df, lic_df, cat_df], axis=1)\n",
    "                        \n",
    "                        # 전체 데이터 프레임에 추가\n",
    "                        combined_df = pd.concat([combined_df, merged_df], ignore_index=True)\n",
    "\n",
    "                    pbar.update(1)  # 진행 상태 업데이트\n",
    "\n",
    "    # 완료된 DataFrame을 CSV로 저장 (null 값은 그대로 포함)\n",
    "    combined_df.to_csv(output_csv_file, index=False, encoding='utf-8-sig', na_rep='null')\n",
    "\n",
    "    end_time = time.time()  # 종료 시간 기록\n",
    "    elapsed_time = end_time - start_time  # 걸린 시간 계산\n",
    "    print(f\"Time taken: {elapsed_time:.2f} seconds\")  # 걸린 시간 출력"
   ]
  },
  {
   "cell_type": "code",
   "execution_count": null,
   "metadata": {},
   "outputs": [],
   "source": [
    "for i in range(1, 11):\n",
    "    print(f\"folder_{i} start\")\n",
    "    # 사용 예시\n",
    "    directory = f'/mnt/aix7206/data/final/라벨링데이터/folder_{i}'  # JSON 파일들이 있는 폴더 경로로 변경하세요\n",
    "    output_csv_file = f'/mnt/aix7206/data/final/라벨링데이터/folder_{i}_new.csv'  # 결과로 저장할 CSV 파일 이름\n",
    "    combine_json_files_recursive(directory, output_csv_file)\n",
    "    print(f\"folder_{i} end\")"
   ]
  },
  {
   "cell_type": "markdown",
   "metadata": {},
   "source": [
    "***데이터 개수 확인***"
   ]
  },
  {
   "cell_type": "code",
   "execution_count": 8,
   "metadata": {},
   "outputs": [
    {
     "name": "stdout",
     "output_type": "stream",
     "text": [
      "folder_1 개수: 52180ea / 중복개수: 0ea\n"
     ]
    },
    {
     "name": "stderr",
     "output_type": "stream",
     "text": [
      "/tmp/ipykernel_2981925/1736039679.py:3: DtypeWarning: Columns (22) have mixed types. Specify dtype option on import or set low_memory=False.\n",
      "  df = pd.read_csv(f'/mnt/aix7206/data/final/라벨링데이터/folder_{i}_new.csv')\n"
     ]
    },
    {
     "name": "stdout",
     "output_type": "stream",
     "text": [
      "folder_2 개수: 52283ea / 중복개수: 0ea\n",
      "folder_3 개수: 52349ea / 중복개수: 0ea\n"
     ]
    },
    {
     "name": "stderr",
     "output_type": "stream",
     "text": [
      "/tmp/ipykernel_2981925/1736039679.py:3: DtypeWarning: Columns (42) have mixed types. Specify dtype option on import or set low_memory=False.\n",
      "  df = pd.read_csv(f'/mnt/aix7206/data/final/라벨링데이터/folder_{i}_new.csv')\n"
     ]
    },
    {
     "name": "stdout",
     "output_type": "stream",
     "text": [
      "folder_4 개수: 52300ea / 중복개수: 0ea\n",
      "folder_5 개수: 52540ea / 중복개수: 0ea\n",
      "folder_6 개수: 52513ea / 중복개수: 0ea\n",
      "folder_7 개수: 52537ea / 중복개수: 0ea\n",
      "folder_8 개수: 51984ea / 중복개수: 0ea\n"
     ]
    },
    {
     "name": "stderr",
     "output_type": "stream",
     "text": [
      "/tmp/ipykernel_2981925/1736039679.py:3: DtypeWarning: Columns (42) have mixed types. Specify dtype option on import or set low_memory=False.\n",
      "  df = pd.read_csv(f'/mnt/aix7206/data/final/라벨링데이터/folder_{i}_new.csv')\n"
     ]
    },
    {
     "name": "stdout",
     "output_type": "stream",
     "text": [
      "folder_9 개수: 52375ea / 중복개수: 0ea\n",
      "folder_10 개수: 52178ea / 중복개수: 0ea\n",
      "전체 데이터 개수: 523239ea\n"
     ]
    },
    {
     "name": "stderr",
     "output_type": "stream",
     "text": [
      "/tmp/ipykernel_2981925/1736039679.py:3: DtypeWarning: Columns (42) have mixed types. Specify dtype option on import or set low_memory=False.\n",
      "  df = pd.read_csv(f'/mnt/aix7206/data/final/라벨링데이터/folder_{i}_new.csv')\n"
     ]
    }
   ],
   "source": [
    "total = 0\n",
    "for i in range(1, 11):\n",
    "    df = pd.read_csv(f'/mnt/aix7206/data/final/라벨링데이터/folder_{i}_new.csv')\n",
    "    print(f\"folder_{i} 개수: {len(df)}ea / 중복개수: {df.duplicated().sum()}ea\")\n",
    "    total += len(df)\n",
    "print(f\"전체 데이터 개수: {total}ea\")"
   ]
  },
  {
   "cell_type": "markdown",
   "metadata": {},
   "source": [
    "### **재배환경데이터 매칭(train만) + bbox 수정**"
   ]
  },
  {
   "cell_type": "code",
   "execution_count": 49,
   "metadata": {},
   "outputs": [],
   "source": [
    "import pandas as pd\n",
    "import os\n",
    "import random\n",
    "import shutil\n",
    "import time\n",
    "import ast"
   ]
  },
  {
   "cell_type": "code",
   "execution_count": 50,
   "metadata": {},
   "outputs": [
    {
     "name": "stderr",
     "output_type": "stream",
     "text": [
      "/tmp/ipykernel_3544045/2923626232.py:13: DtypeWarning: Columns (49) have mixed types. Specify dtype option on import or set low_memory=False.\n",
      "  env_train = pd.read_csv('/mnt/aix7206/data/dump/train_aihub_ffill.csv')\n"
     ]
    }
   ],
   "source": [
    "##### bbox 수정 #####\n",
    "def modify_bbox(bbox):\n",
    "    # 소수점 제거\n",
    "    bbox = ast.literal_eval(bbox)\n",
    "    bbox = [int(value) for value in bbox]\n",
    "    # bbox 수정\n",
    "    bbox[2] = bbox[0] + bbox[2]\n",
    "    bbox[3] = bbox[1] + bbox[3]\n",
    "    \n",
    "    return bbox\n",
    "\n",
    "##### 재배환경데이터 매칭 #####\n",
    "env_train = pd.read_csv('/mnt/aix7206/data/dump/train_aihub_ffill.csv')\n",
    "env = env_train.drop_duplicates()\n",
    "\n",
    "def process_folder(i):\n",
    "    print(f'folder_{i} start')\n",
    "    \n",
    "    # CSV 파일 읽기\n",
    "    train = pd.read_csv(f'/mnt/aix7206/data/final/라벨링데이터/folder_{i}_new.csv')\n",
    "    \n",
    "    # 결측값 채우기\n",
    "    train_ffill = train.fillna(method='ffill')\n",
    "    print(f\"folder_{i} merge 전: {len(train_ffill)}ea\")\n",
    "    \n",
    "    # 'env'로 시작하는 열 필터링\n",
    "    env_columns = [col for col in env.columns if col.startswith('env')]\n",
    "    \n",
    "    # 'image_date_captured'와 'ann_bbox' 기준으로 두 데이터프레임 병합\n",
    "    merged_df_train = pd.merge(\n",
    "        train_ffill,\n",
    "        env[['image_image_id', 'growth_stem_length', 'growth_leaf_cnt', 'growth_leaf_width', 'growth_leaf_length', 'growth_stem_thick', 'growth_fr_weight',  'image_date_captured', 'ann_bbox', 'ann_area', 'ann_segmentation', 'ann_image_id', 'image_create_date', 'ann_id', 'cat_id', 'ann_category_id'] + env_columns], \n",
    "        on=['image_image_id', 'growth_stem_length', 'growth_leaf_cnt', 'growth_leaf_width', 'growth_leaf_length', 'growth_stem_thick', 'growth_fr_weight',  'image_date_captured', 'ann_bbox', 'ann_area', 'ann_segmentation', 'ann_image_id', 'image_create_date', 'ann_id', 'cat_id', 'ann_category_id'], \n",
    "        how='left'\n",
    "    )\n",
    "    print(f\"folder_{i} merge 후: {len(merged_df_train)}ea\")\n",
    "    \n",
    "    # bbox 수정\n",
    "    merged_df_train['ann_bbox_new'] = merged_df_train['ann_bbox'].apply(modify_bbox)\n",
    "    \n",
    "    # 결과를 새로운 CSV 파일로 저장\n",
    "    merged_df_train.to_csv(f'/mnt/aix7206/data/final/라벨링데이터/train_{i}_final.csv', index=False)\n",
    "    \n",
    "    print(f'folder_{i} end')\n",
    "\n",
    "def merge_final_files(num_folders, output_file):\n",
    "    # train_{i}_final 파일들을 하나의 데이터프레임으로 병합\n",
    "    combined_df = pd.DataFrame()\n",
    "    \n",
    "    for i in range(1, num_folders + 1):\n",
    "        file_path = f'/mnt/aix7206/data/final/라벨링데이터/train_{i}_final.csv'\n",
    "        if os.path.exists(file_path):\n",
    "            df = pd.read_csv(file_path)\n",
    "            combined_df = pd.concat([combined_df, df], ignore_index=True)\n",
    "    \n",
    "    # 최종 병합된 데이터를 train_final.csv로 저장\n",
    "    combined_df.to_csv(output_file, index=False)\n",
    "    print(f\"All files merged into {output_file}\")\n",
    "\n",
    "def main():\n",
    "    num_folders = 10\n",
    "    start_time = time.time()  # 시작 시간 기록\n",
    "    \n",
    "    # 각 폴더 처리\n",
    "    for i in range(1, num_folders + 1):\n",
    "        folder_start_time = time.time()  # 각 폴더 처리 시작 시간\n",
    "        \n",
    "        process_folder(i)\n",
    "        \n",
    "        # 각 폴더 처리에 걸린 시간 계산\n",
    "        folder_elapsed_time = time.time() - folder_start_time\n",
    "        total_elapsed_time = time.time() - start_time\n",
    "        \n",
    "        # 남은 폴더 계산\n",
    "        remaining_folders = num_folders - i\n",
    "        \n",
    "        # 예상 남은 시간 계산\n",
    "        if i > 0:\n",
    "            avg_time_per_folder = total_elapsed_time / i\n",
    "            estimated_remaining_time = avg_time_per_folder * remaining_folders\n",
    "            print(f\"Estimated time remaining: {estimated_remaining_time:.2f} seconds\")\n",
    "    \n",
    "    # 총 소요 시간\n",
    "    total_time = time.time() - start_time\n",
    "    print(f\"All folders processed. Total time: {total_time:.2f} seconds\")\n",
    "    \n",
    "    # 모든 train_{i}_final.csv 파일들을 하나로 병합\n",
    "    merge_final_files(num_folders, '/mnt/aix7206/data/final/라벨링데이터/train_final.csv')"
   ]
  },
  {
   "cell_type": "code",
   "execution_count": 51,
   "metadata": {},
   "outputs": [
    {
     "name": "stdout",
     "output_type": "stream",
     "text": [
      "folder_1 start\n"
     ]
    },
    {
     "name": "stderr",
     "output_type": "stream",
     "text": [
      "/tmp/ipykernel_3544045/2923626232.py:23: FutureWarning: DataFrame.fillna with 'method' is deprecated and will raise in a future version. Use obj.ffill() or obj.bfill() instead.\n",
      "  train_ffill = train.fillna(method='ffill')\n"
     ]
    },
    {
     "name": "stdout",
     "output_type": "stream",
     "text": [
      "folder_1 merge 전: 52180ea\n",
      "folder_1 merge 후: 52180ea\n",
      "folder_1 end\n",
      "Estimated time remaining: 101.73 seconds\n",
      "folder_2 start\n"
     ]
    },
    {
     "name": "stderr",
     "output_type": "stream",
     "text": [
      "/tmp/ipykernel_3544045/2923626232.py:20: DtypeWarning: Columns (22) have mixed types. Specify dtype option on import or set low_memory=False.\n",
      "  train = pd.read_csv(f'/mnt/aix7206/data/final/라벨링데이터/folder_{i}_new.csv')\n",
      "/tmp/ipykernel_3544045/2923626232.py:23: FutureWarning: DataFrame.fillna with 'method' is deprecated and will raise in a future version. Use obj.ffill() or obj.bfill() instead.\n",
      "  train_ffill = train.fillna(method='ffill')\n"
     ]
    },
    {
     "name": "stdout",
     "output_type": "stream",
     "text": [
      "folder_2 merge 전: 52283ea\n",
      "folder_2 merge 후: 52283ea\n",
      "folder_2 end\n",
      "Estimated time remaining: 92.55 seconds\n",
      "folder_3 start\n"
     ]
    },
    {
     "name": "stderr",
     "output_type": "stream",
     "text": [
      "/tmp/ipykernel_3544045/2923626232.py:23: FutureWarning: DataFrame.fillna with 'method' is deprecated and will raise in a future version. Use obj.ffill() or obj.bfill() instead.\n",
      "  train_ffill = train.fillna(method='ffill')\n"
     ]
    },
    {
     "name": "stdout",
     "output_type": "stream",
     "text": [
      "folder_3 merge 전: 52349ea\n",
      "folder_3 merge 후: 52349ea\n",
      "folder_3 end\n",
      "Estimated time remaining: 80.00 seconds\n",
      "folder_4 start\n"
     ]
    },
    {
     "name": "stderr",
     "output_type": "stream",
     "text": [
      "/tmp/ipykernel_3544045/2923626232.py:20: DtypeWarning: Columns (42) have mixed types. Specify dtype option on import or set low_memory=False.\n",
      "  train = pd.read_csv(f'/mnt/aix7206/data/final/라벨링데이터/folder_{i}_new.csv')\n",
      "/tmp/ipykernel_3544045/2923626232.py:23: FutureWarning: DataFrame.fillna with 'method' is deprecated and will raise in a future version. Use obj.ffill() or obj.bfill() instead.\n",
      "  train_ffill = train.fillna(method='ffill')\n"
     ]
    },
    {
     "name": "stdout",
     "output_type": "stream",
     "text": [
      "folder_4 merge 전: 52300ea\n",
      "folder_4 merge 후: 52300ea\n",
      "folder_4 end\n",
      "Estimated time remaining: 68.61 seconds\n",
      "folder_5 start\n"
     ]
    },
    {
     "name": "stderr",
     "output_type": "stream",
     "text": [
      "/tmp/ipykernel_3544045/2923626232.py:23: FutureWarning: DataFrame.fillna with 'method' is deprecated and will raise in a future version. Use obj.ffill() or obj.bfill() instead.\n",
      "  train_ffill = train.fillna(method='ffill')\n"
     ]
    },
    {
     "name": "stdout",
     "output_type": "stream",
     "text": [
      "folder_5 merge 전: 52540ea\n",
      "folder_5 merge 후: 52540ea\n",
      "folder_5 end\n",
      "Estimated time remaining: 57.60 seconds\n",
      "folder_6 start\n"
     ]
    },
    {
     "name": "stderr",
     "output_type": "stream",
     "text": [
      "/tmp/ipykernel_3544045/2923626232.py:23: FutureWarning: DataFrame.fillna with 'method' is deprecated and will raise in a future version. Use obj.ffill() or obj.bfill() instead.\n",
      "  train_ffill = train.fillna(method='ffill')\n"
     ]
    },
    {
     "name": "stdout",
     "output_type": "stream",
     "text": [
      "folder_6 merge 전: 52513ea\n",
      "folder_6 merge 후: 52513ea\n",
      "folder_6 end\n",
      "Estimated time remaining: 46.27 seconds\n",
      "folder_7 start\n"
     ]
    },
    {
     "name": "stderr",
     "output_type": "stream",
     "text": [
      "/tmp/ipykernel_3544045/2923626232.py:23: FutureWarning: DataFrame.fillna with 'method' is deprecated and will raise in a future version. Use obj.ffill() or obj.bfill() instead.\n",
      "  train_ffill = train.fillna(method='ffill')\n"
     ]
    },
    {
     "name": "stdout",
     "output_type": "stream",
     "text": [
      "folder_7 merge 전: 52537ea\n",
      "folder_7 merge 후: 52537ea\n",
      "folder_7 end\n",
      "Estimated time remaining: 34.68 seconds\n",
      "folder_8 start\n"
     ]
    },
    {
     "name": "stderr",
     "output_type": "stream",
     "text": [
      "/tmp/ipykernel_3544045/2923626232.py:23: FutureWarning: DataFrame.fillna with 'method' is deprecated and will raise in a future version. Use obj.ffill() or obj.bfill() instead.\n",
      "  train_ffill = train.fillna(method='ffill')\n"
     ]
    },
    {
     "name": "stdout",
     "output_type": "stream",
     "text": [
      "folder_8 merge 전: 51984ea\n",
      "folder_8 merge 후: 51984ea\n",
      "folder_8 end\n",
      "Estimated time remaining: 22.92 seconds\n",
      "folder_9 start\n"
     ]
    },
    {
     "name": "stderr",
     "output_type": "stream",
     "text": [
      "/tmp/ipykernel_3544045/2923626232.py:20: DtypeWarning: Columns (42) have mixed types. Specify dtype option on import or set low_memory=False.\n",
      "  train = pd.read_csv(f'/mnt/aix7206/data/final/라벨링데이터/folder_{i}_new.csv')\n",
      "/tmp/ipykernel_3544045/2923626232.py:23: FutureWarning: DataFrame.fillna with 'method' is deprecated and will raise in a future version. Use obj.ffill() or obj.bfill() instead.\n",
      "  train_ffill = train.fillna(method='ffill')\n"
     ]
    },
    {
     "name": "stdout",
     "output_type": "stream",
     "text": [
      "folder_9 merge 전: 52375ea\n",
      "folder_9 merge 후: 52375ea\n",
      "folder_9 end\n",
      "Estimated time remaining: 11.56 seconds\n",
      "folder_10 start\n"
     ]
    },
    {
     "name": "stderr",
     "output_type": "stream",
     "text": [
      "/tmp/ipykernel_3544045/2923626232.py:20: DtypeWarning: Columns (42) have mixed types. Specify dtype option on import or set low_memory=False.\n",
      "  train = pd.read_csv(f'/mnt/aix7206/data/final/라벨링데이터/folder_{i}_new.csv')\n",
      "/tmp/ipykernel_3544045/2923626232.py:23: FutureWarning: DataFrame.fillna with 'method' is deprecated and will raise in a future version. Use obj.ffill() or obj.bfill() instead.\n",
      "  train_ffill = train.fillna(method='ffill')\n"
     ]
    },
    {
     "name": "stdout",
     "output_type": "stream",
     "text": [
      "folder_10 merge 전: 52178ea\n",
      "folder_10 merge 후: 52178ea\n",
      "folder_10 end\n",
      "Estimated time remaining: 0.00 seconds\n",
      "All folders processed. Total time: 118.84 seconds\n"
     ]
    },
    {
     "name": "stderr",
     "output_type": "stream",
     "text": [
      "/tmp/ipykernel_3544045/2923626232.py:53: DtypeWarning: Columns (22) have mixed types. Specify dtype option on import or set low_memory=False.\n",
      "  df = pd.read_csv(file_path)\n",
      "/tmp/ipykernel_3544045/2923626232.py:53: DtypeWarning: Columns (42) have mixed types. Specify dtype option on import or set low_memory=False.\n",
      "  df = pd.read_csv(file_path)\n",
      "/tmp/ipykernel_3544045/2923626232.py:53: DtypeWarning: Columns (42) have mixed types. Specify dtype option on import or set low_memory=False.\n",
      "  df = pd.read_csv(file_path)\n",
      "/tmp/ipykernel_3544045/2923626232.py:53: DtypeWarning: Columns (42) have mixed types. Specify dtype option on import or set low_memory=False.\n",
      "  df = pd.read_csv(file_path)\n"
     ]
    },
    {
     "name": "stdout",
     "output_type": "stream",
     "text": [
      "All files merged into /mnt/aix7206/data/final/라벨링데이터/train_final.csv\n"
     ]
    }
   ],
   "source": [
    "# 메인 함수 실행\n",
    "if __name__ == \"__main__\":\n",
    "    main()"
   ]
  },
  {
   "cell_type": "markdown",
   "metadata": {},
   "source": [
    "***데이터 개수 비교***"
   ]
  },
  {
   "cell_type": "code",
   "execution_count": 57,
   "metadata": {},
   "outputs": [
    {
     "name": "stdout",
     "output_type": "stream",
     "text": [
      "merge 전 데이터 개수: 523239ea\n",
      "merge 후 데이터 개수: 523239ea\n"
     ]
    }
   ],
   "source": [
    "total = 0\n",
    "for i in range(1, 11):\n",
    "    df = pd.read_csv(f'/mnt/aix7206/data/final/라벨링데이터/folder_{i}_new.csv')\n",
    "    total += len(df)\n",
    "print(f\"merge 전 데이터 개수: {total}ea\")\n",
    "\n",
    "final = pd.read_csv('/mnt/aix7206/data/final/라벨링데이터/train_final.csv')\n",
    "print(f\"merge 후 데이터 개수: {len(final)}ea\")"
   ]
  },
  {
   "cell_type": "markdown",
   "metadata": {},
   "source": [
    "***val dataset bbox 수정 + train & val 칼럼 매칭***"
   ]
  },
  {
   "cell_type": "code",
   "execution_count": 81,
   "metadata": {},
   "outputs": [
    {
     "name": "stdout",
     "output_type": "stream",
     "text": [
      "{'ann_bbox_new', '0'}\n",
      "set()\n"
     ]
    }
   ],
   "source": [
    "final = pd.read_csv('/mnt/aix7206/data/train.csv')\n",
    "val_final = pd.read_csv('/mnt/aix7206/data/val.csv')\n",
    "print(set(final.columns).difference(set(val_final.columns)))\n",
    "print(set(val_final.columns).difference(set(final.columns)))"
   ]
  },
  {
   "cell_type": "code",
   "execution_count": 82,
   "metadata": {},
   "outputs": [],
   "source": [
    "final.drop([\"0\"], axis=1, inplace=True)\n",
    "val_final['ann_bbox_new'] = val_final['ann_bbox'].apply(lambda x: modify_bbox(x) if pd.notna(x) else x)"
   ]
  },
  {
   "cell_type": "code",
   "execution_count": 83,
   "metadata": {},
   "outputs": [
    {
     "name": "stdout",
     "output_type": "stream",
     "text": [
      "set()\n",
      "set()\n"
     ]
    }
   ],
   "source": [
    "print(set(final.columns).difference(set(val_final.columns)))\n",
    "print(set(val_final.columns).difference(set(final.columns)))"
   ]
  },
  {
   "cell_type": "code",
   "execution_count": 84,
   "metadata": {},
   "outputs": [],
   "source": [
    "final.to_csv('/mnt/aix7206/data/train.csv', index=False)\n",
    "val_final.to_csv('/mnt/aix7206/data/val.csv', index=False)"
   ]
  },
  {
   "cell_type": "code",
   "execution_count": null,
   "metadata": {},
   "outputs": [],
   "source": []
  }
 ],
 "metadata": {
  "kernelspec": {
   "display_name": "eunenv",
   "language": "python",
   "name": "python3"
  },
  "language_info": {
   "codemirror_mode": {
    "name": "ipython",
    "version": 3
   },
   "file_extension": ".py",
   "mimetype": "text/x-python",
   "name": "python",
   "nbconvert_exporter": "python",
   "pygments_lexer": "ipython3",
   "version": "3.9.0"
  }
 },
 "nbformat": 4,
 "nbformat_minor": 2
}
